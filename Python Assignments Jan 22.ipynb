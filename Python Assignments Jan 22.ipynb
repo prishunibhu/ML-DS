{
 "cells": [
  {
   "cell_type": "code",
   "execution_count": 1,
   "metadata": {},
   "outputs": [],
   "source": [
    "import pandas as pd\n",
    "import numpy as np\n",
    "import matplotlib.pyplot as plt\n",
    "import math"
   ]
  },
  {
   "cell_type": "markdown",
   "metadata": {},
   "source": [
    "# Assignment 1"
   ]
  },
  {
   "cell_type": "code",
   "execution_count": 7,
   "metadata": {},
   "outputs": [
    {
     "name": "stdout",
     "output_type": "stream",
     "text": [
      "162.8894626777442\n",
      "<class 'int'>\n",
      "<class 'int'>\n",
      "<class 'int'>\n",
      "<class 'float'>\n"
     ]
    }
   ],
   "source": [
    "n=10\n",
    "r=5\n",
    "p=100\n",
    "\n",
    "A= p * pow(1+(r/100), n)\n",
    "\n",
    "print(A)\n",
    "\n",
    "print(type(p))\n",
    "print(type(r))\n",
    "print(type(n))\n",
    "print(type(A))"
   ]
  },
  {
   "cell_type": "markdown",
   "metadata": {},
   "source": [
    "# Assignment 2 - Error"
   ]
  },
  {
   "cell_type": "code",
   "execution_count": 91,
   "metadata": {},
   "outputs": [
    {
     "name": "stdout",
     "output_type": "stream",
     "text": [
      "[2, 7, 3, 5, 4, 6]\n"
     ]
    },
    {
     "ename": "NameError",
     "evalue": "name 'numpy' is not defined",
     "output_type": "error",
     "traceback": [
      "\u001b[1;31m---------------------------------------------------------------------------\u001b[0m",
      "\u001b[1;31mNameError\u001b[0m                                 Traceback (most recent call last)",
      "\u001b[1;32m<ipython-input-91-1758f6c94590>\u001b[0m in \u001b[0;36m<module>\u001b[1;34m\u001b[0m\n\u001b[0;32m      2\u001b[0m \u001b[0mmy_list1\u001b[0m\u001b[1;33m=\u001b[0m\u001b[1;33m[\u001b[0m\u001b[1;36m2\u001b[0m\u001b[1;33m,\u001b[0m\u001b[1;36m7\u001b[0m\u001b[1;33m,\u001b[0m\u001b[1;36m3\u001b[0m\u001b[1;33m,\u001b[0m\u001b[1;36m5\u001b[0m\u001b[1;33m,\u001b[0m\u001b[1;36m4\u001b[0m\u001b[1;33m,\u001b[0m\u001b[1;36m6\u001b[0m\u001b[1;33m]\u001b[0m\u001b[1;33m\u001b[0m\u001b[1;33m\u001b[0m\u001b[0m\n\u001b[0;32m      3\u001b[0m \u001b[0mprint\u001b[0m\u001b[1;33m(\u001b[0m\u001b[0mmy_list1\u001b[0m\u001b[1;33m)\u001b[0m\u001b[1;33m\u001b[0m\u001b[1;33m\u001b[0m\u001b[0m\n\u001b[1;32m----> 4\u001b[1;33m \u001b[0mmy_arr1\u001b[0m \u001b[1;33m=\u001b[0m \u001b[0mnumpy\u001b[0m\u001b[1;33m.\u001b[0m\u001b[0marray\u001b[0m\u001b[1;33m(\u001b[0m\u001b[0mmy_list1\u001b[0m\u001b[1;33m,\u001b[0m\u001b[0mdtype\u001b[0m\u001b[1;33m=\u001b[0m\u001b[0mint\u001b[0m\u001b[1;33m)\u001b[0m\u001b[1;33m\u001b[0m\u001b[1;33m\u001b[0m\u001b[0m\n\u001b[0m\u001b[0;32m      5\u001b[0m \u001b[0mprint\u001b[0m\u001b[1;33m(\u001b[0m\u001b[0mmy_arr1\u001b[0m\u001b[1;33m)\u001b[0m\u001b[1;33m\u001b[0m\u001b[1;33m\u001b[0m\u001b[0m\n",
      "\u001b[1;31mNameError\u001b[0m: name 'numpy' is not defined"
     ]
    }
   ],
   "source": [
    "import numpy as np\n",
    "my_list1=[2,7,3,5,4,6]\n",
    "print(my_list1)\n",
    "my_arr1 = numpy.array(my_list1,dtype=int)\n",
    "print(my_arr1)"
   ]
  },
  {
   "cell_type": "markdown",
   "metadata": {},
   "source": [
    "# Assignment3"
   ]
  },
  {
   "cell_type": "code",
   "execution_count": 11,
   "metadata": {},
   "outputs": [
    {
     "name": "stdout",
     "output_type": "stream",
     "text": [
      " Learn\n"
     ]
    }
   ],
   "source": [
    "string1 = 'Machine Learning'\n",
    "string2=string1.strip('Machine')\n",
    "print(string2[:-3])"
   ]
  },
  {
   "cell_type": "markdown",
   "metadata": {},
   "source": [
    "# Assignment 4 "
   ]
  },
  {
   "cell_type": "code",
   "execution_count": 14,
   "metadata": {},
   "outputs": [
    {
     "name": "stdout",
     "output_type": "stream",
     "text": [
      "[15, 19, 23]\n",
      "1\n"
     ]
    }
   ],
   "source": [
    "l1=[]\n",
    "for i in range(15,25,4):\n",
    "    l1.append(i)\n",
    "\n",
    "print(l1)\n",
    "print(l1.index(19))"
   ]
  },
  {
   "cell_type": "markdown",
   "metadata": {},
   "source": [
    "# Assignment 5- Num1 = num2"
   ]
  },
  {
   "cell_type": "code",
   "execution_count": 15,
   "metadata": {},
   "outputs": [
    {
     "name": "stdout",
     "output_type": "stream",
     "text": [
      "625 625\n"
     ]
    }
   ],
   "source": [
    "num1 = 5 ** 4\n",
    "num2 = pow(5,4)\n",
    "print(num1,num2)"
   ]
  },
  {
   "cell_type": "markdown",
   "metadata": {},
   "source": [
    "# Assignment 6"
   ]
  },
  {
   "cell_type": "code",
   "execution_count": 22,
   "metadata": {},
   "outputs": [
    {
     "name": "stdout",
     "output_type": "stream",
     "text": [
      "Coffee\n",
      "* Hot\n",
      "* Ice\n",
      "Tea\n",
      "* Hot\n",
      "* Ice\n"
     ]
    }
   ],
   "source": [
    "l1=['Coffee','Tea']\n",
    "l2=['Hot','Ice']\n",
    "for i in l1:\n",
    "    print(i)\n",
    "    for j in l2:\n",
    "        print('*',j)\n"
   ]
  },
  {
   "cell_type": "markdown",
   "metadata": {},
   "source": [
    " # Assignment 7"
   ]
  },
  {
   "cell_type": "code",
   "execution_count": 82,
   "metadata": {},
   "outputs": [
    {
     "name": "stdout",
     "output_type": "stream",
     "text": [
      "Enter the side1 of the triangle:1\n",
      "Enter the side2 of the triangle:1\n",
      "Enter the side3 of the triangle:1\n",
      "1 , 1 , 1 is not a pythogeras triangle\n"
     ]
    }
   ],
   "source": [
    "\n",
    "a=int(input(\"Enter the side1 of the triangle:\"))\n",
    "b=int(input(\"Enter the side2 of the triangle:\"))\n",
    "c=int(input(\"Enter the side3 of the triangle:\"))\n",
    "\n",
    "if (a*a + b*b == c*c):\n",
    "    print(a,\",\",b,\",\",c,\"is a pythogeras triangle\")\n",
    "else:\n",
    "    print(a,\",\",b,\",\",c,\"is not a pythogeras triangle\")"
   ]
  },
  {
   "cell_type": "markdown",
   "metadata": {},
   "source": [
    "# Assignment 8"
   ]
  },
  {
   "cell_type": "code",
   "execution_count": 39,
   "metadata": {},
   "outputs": [
    {
     "name": "stdout",
     "output_type": "stream",
     "text": [
      "Input the list of integers. Enter 0 to end:\n",
      "enter num:1\n",
      "enter num:2\n",
      "enter num:3\n",
      "enter num:4\n",
      "enter num:67\n",
      "enter num:0\n",
      "[1, 2, 3, 4, 67]\n",
      "Largest: 67\n",
      "Smallest: 1\n"
     ]
    }
   ],
   "source": [
    "l1=[]\n",
    "print(\"Input the list of integers. Enter 0 to end:\")\n",
    "while(1):\n",
    "    a=int(input(\"enter num:\"))\n",
    "    if a==0:\n",
    "        break\n",
    "    l1.append(a)\n",
    "print(l1)\n",
    "\n",
    "large=max(l1)\n",
    "small=min(l1)\n",
    "print(\"Largest:\" ,large)\n",
    "print(\"Smallest:\",small)\n",
    "\n"
   ]
  },
  {
   "cell_type": "code",
   "execution_count": 45,
   "metadata": {},
   "outputs": [
    {
     "name": "stdout",
     "output_type": "stream",
     "text": [
      "Input the float of integers. Enter 0 to end:\n",
      "enter num:2.34\n",
      "enter num:45.23\n",
      "enter num:23.34\n",
      "enter num:9.34\n",
      "enter num:0.0\n",
      "[2.34, 45.23, 23.34, 9.34]\n",
      "Standard Deviation: 16.379896786915356\n"
     ]
    }
   ],
   "source": [
    "import statistics as st\n",
    "l2=[]\n",
    "print(\"Input the float of integers. Enter 0 to end:\")\n",
    "while(1):\n",
    "    a=float(input(\"enter num:\"))\n",
    "    if a==0:\n",
    "        break\n",
    "    l2.append(a)\n",
    "print(l2)\n",
    "\n",
    "stdval=st.pstdev(l2)\n",
    "print(\"Standard Deviation:\",stdval)\n"
   ]
  },
  {
   "cell_type": "markdown",
   "metadata": {},
   "source": [
    "# Assignment 9"
   ]
  },
  {
   "cell_type": "code",
   "execution_count": 80,
   "metadata": {},
   "outputs": [
    {
     "name": "stdout",
     "output_type": "stream",
     "text": [
      "Enter the stringhelo\n"
     ]
    },
    {
     "ename": "TypeError",
     "evalue": "object of type 'itertools.permutations' has no len()",
     "output_type": "error",
     "traceback": [
      "\u001b[1;31m---------------------------------------------------------------------------\u001b[0m",
      "\u001b[1;31mTypeError\u001b[0m                                 Traceback (most recent call last)",
      "\u001b[1;32m<ipython-input-80-231540953288>\u001b[0m in \u001b[0;36m<module>\u001b[1;34m\u001b[0m\n\u001b[0;32m      4\u001b[0m \u001b[0ms\u001b[0m\u001b[1;33m=\u001b[0m\u001b[0minput\u001b[0m\u001b[1;33m(\u001b[0m\u001b[1;34m\"Enter the string\"\u001b[0m\u001b[1;33m)\u001b[0m\u001b[1;33m\u001b[0m\u001b[1;33m\u001b[0m\u001b[0m\n\u001b[0;32m      5\u001b[0m \u001b[0mp\u001b[0m \u001b[1;33m=\u001b[0m \u001b[0mpermutations\u001b[0m\u001b[1;33m(\u001b[0m\u001b[0ms\u001b[0m\u001b[1;33m)\u001b[0m\u001b[1;33m\u001b[0m\u001b[1;33m\u001b[0m\u001b[0m\n\u001b[1;32m----> 6\u001b[1;33m \u001b[0mprint\u001b[0m\u001b[1;33m(\u001b[0m\u001b[0mlen\u001b[0m\u001b[1;33m(\u001b[0m\u001b[0mp\u001b[0m\u001b[1;33m)\u001b[0m\u001b[1;33m)\u001b[0m\u001b[1;33m\u001b[0m\u001b[1;33m\u001b[0m\u001b[0m\n\u001b[0m\u001b[0;32m      7\u001b[0m \u001b[1;31m# Create a dictionary\u001b[0m\u001b[1;33m\u001b[0m\u001b[1;33m\u001b[0m\u001b[1;33m\u001b[0m\u001b[0m\n\u001b[0;32m      8\u001b[0m \u001b[0md\u001b[0m \u001b[1;33m=\u001b[0m \u001b[1;33m[\u001b[0m\u001b[1;33m]\u001b[0m\u001b[1;33m\u001b[0m\u001b[1;33m\u001b[0m\u001b[0m\n",
      "\u001b[1;31mTypeError\u001b[0m: object of type 'itertools.permutations' has no len()"
     ]
    }
   ],
   "source": [
    "from itertools import permutations\n",
    "import string\n",
    "  \n",
    "s=input(\"Enter the string\")\n",
    "p = permutations(s)\n",
    "# Create a dictionary\n",
    "d = []\n",
    "for i in list(p):\n",
    "  \n",
    "    # Print only if not in dictionary\n",
    "    if (i not in d):\n",
    "        d.append(i)\n",
    "        #print(''.join(i))\n",
    "        \n",
    "print(len(d))"
   ]
  },
  {
   "cell_type": "code",
   "execution_count": 77,
   "metadata": {},
   "outputs": [
    {
     "name": "stdout",
     "output_type": "stream",
     "text": [
      "Enter the stringenduringly\n",
      "{'n': 2}\n",
      "The different combinations are: 1814400.0\n"
     ]
    }
   ],
   "source": [
    "s=input(\"Enter the string\")\n",
    "totlen=len(s)\n",
    "d1={}\n",
    "for i in range(0,totlen):\n",
    "    count=1\n",
    "    for j in range(i+1,totlen):\n",
    "        if (s[i] == s[j] and s[i] != ' ' and s[i] !='0'):\n",
    "            count =count + 1\n",
    "            s=s[:j] +'0' + s[j+1:]\n",
    "    if(count>1):\n",
    "        d2={s[i]:count}\n",
    "        d1.update(d2)\n",
    "print(d1)\n",
    "\n",
    "den =1\n",
    "for i in list(d1.values()):\n",
    "    den = den * math.factorial(i)\n",
    "\n",
    "combo = math.factorial(totlen)/ den\n",
    "print(\"The different combinations are:\",combo)\n",
    "\n",
    "\n",
    "\n"
   ]
  },
  {
   "cell_type": "markdown",
   "metadata": {},
   "source": [
    "# Assignment 10\n"
   ]
  },
  {
   "cell_type": "code",
   "execution_count": 77,
   "metadata": {},
   "outputs": [
    {
     "name": "stdout",
     "output_type": "stream",
     "text": [
      "Enter the no of men:12\n",
      "Enter the no of women:12\n",
      "Enter the number of men to select6\n",
      "Enter the number of men to select6\n",
      "The combinations possible are: 30735936.0\n"
     ]
    }
   ],
   "source": [
    "\n",
    "M=int(input(\"Enter the no of men:\"))\n",
    "W=int(input(\"Enter the no of women:\"))\n",
    "\n",
    "M1 =int(input(\"Enter the number of men to select\"))\n",
    "W1 =int(input(\"Enter the number of men to select\"))     \n",
    "\n",
    "M_combo = math.factorial(M)/(math.factorial(M1) * math.factorial(M-M1))\n",
    "W_combo = math.factorial(W)/(math.factorial(W1) * math.factorial(W-W1))\n",
    "\n",
    "tot = M_combo * W_combo * M1 * W1\n",
    "\n",
    "print(\"The combinations possible are:\",tot)\n",
    "\n"
   ]
  },
  {
   "cell_type": "markdown",
   "metadata": {},
   "source": [
    "# Assignment 11"
   ]
  },
  {
   "cell_type": "code",
   "execution_count": null,
   "metadata": {},
   "outputs": [],
   "source": [
    "E1- Event of choosing an answer right\n",
    "E2- Event of knowing the answer\n",
    "A- event of answering correct\n",
    "\n",
    "p(E1) = 1/4 , P(E2) = 1/3\n",
    "\n",
    "P(A/E2) = probability of answering correct when I know the answer  = 1\n",
    "P(A/E1) = probability of answering it correct  = 1/4\n",
    "\n",
    "p(A) - probability of answering correct = p(A/E1) * P(E1) + p(A/E2) * P(E2)\n",
    "                                        = 1/4*1/4 + 1* 1/3 = \n",
    "\n",
    "p(E2/A) = p(A/E2) * P(E2)  / p(A)\n",
    "\n",
    "        = 1 * 1/3 /  48/19\n",
    "    \n",
    "        = 12/19\n",
    "        "
   ]
  },
  {
   "cell_type": "markdown",
   "metadata": {},
   "source": [
    "# Assignment 12\n"
   ]
  },
  {
   "cell_type": "code",
   "execution_count": 84,
   "metadata": {},
   "outputs": [],
   "source": [
    "df_tips= pd.read_csv(r\"C:\\Users\\Priyadarshini\\Downloads\\Python datasets\\CCE-IIT-Madras-Python-for-Data-Science-Assignment\\tips.csv\")"
   ]
  },
  {
   "cell_type": "code",
   "execution_count": 100,
   "metadata": {},
   "outputs": [
    {
     "name": "stdout",
     "output_type": "stream",
     "text": [
      "MaxBill 48.27\n",
      "75% 23.964999999999996\n",
      "Range 45.2\n"
     ]
    }
   ],
   "source": [
    "maxBill=df_tips['TotalBill'].max()\n",
    "print(\"MaxBill\",maxBill)\n",
    "desc=df_tips['TotalBill'].describe()\n",
    "desc75=desc['75%']\n",
    "print(\"75%\",desc75)\n",
    "range=df_tips['TotalBill'].max() -df_tips['TotalBill'].min()\n",
    "print(\"Range\",range)"
   ]
  },
  {
   "cell_type": "markdown",
   "metadata": {},
   "source": [
    "\n",
    "# Assignment 14\n",
    "    "
   ]
  },
  {
   "cell_type": "code",
   "execution_count": 88,
   "metadata": {},
   "outputs": [
    {
     "name": "stdout",
     "output_type": "stream",
     "text": [
      "[58, 59, 63, 60, 60, 63, 60, 57, 58, 59]\n"
     ]
    },
    {
     "data": {
      "text/plain": [
       "4.011111111111111"
      ]
     },
     "execution_count": 88,
     "metadata": {},
     "output_type": "execute_result"
    }
   ],
   "source": [
    "import statistics as st\n",
    "X = [58,59,63,60,60,63,60,57,58,59]\n",
    "\n",
    "print(X)\n",
    "st.pstdev(X)\n",
    "st.variance(X)"
   ]
  },
  {
   "cell_type": "markdown",
   "metadata": {},
   "source": [
    "# Assignment 15"
   ]
  },
  {
   "cell_type": "code",
   "execution_count": null,
   "metadata": {},
   "outputs": [],
   "source": [
    "MEdian is 25\n",
    "Outliers - anything below 5 and above 75.\n",
    "\n",
    "rough values from image\n"
   ]
  },
  {
   "cell_type": "markdown",
   "metadata": {},
   "source": [
    "# Assignment 16"
   ]
  },
  {
   "cell_type": "code",
   "execution_count": 105,
   "metadata": {},
   "outputs": [
    {
     "name": "stdout",
     "output_type": "stream",
     "text": [
      "Enter the country name for replacementfrance\n",
      "Enter the new name for replacementParis\n",
      "{'India': 'Delhi', 'China': 'Beijing', 'Japan': 'Tokyo', 'Qatar': 'Doha', 'France': 'Paris'}\n"
     ]
    }
   ],
   "source": [
    "country={'India':'Delhi','China':'Beijing','Japan':'Tokyo','Qatar':'Doha','France':'Marseilles'}\n",
    "\n",
    "key1=input(\"Enter the country name for replacement\")\n",
    "key1=key1.lower().strip(' ')\n",
    "value1=input(\"Enter the new name for replacement\")\n",
    "for k,v in country.items():\n",
    "    if k.lower().strip(' ')  == key1:\n",
    "        country[k] = value1\n",
    "print(country)"
   ]
  },
  {
   "cell_type": "markdown",
   "metadata": {},
   "source": [
    "# Assignment 17 - ans d- tuple_1[3] = 45"
   ]
  },
  {
   "cell_type": "code",
   "execution_count": 109,
   "metadata": {},
   "outputs": [],
   "source": [
    "tuple_1 = (1,5,6,7,8) \n",
    "tuple_2 = (8,9,4)"
   ]
  },
  {
   "cell_type": "code",
   "execution_count": 110,
   "metadata": {},
   "outputs": [
    {
     "data": {
      "text/plain": [
       "27"
      ]
     },
     "execution_count": 110,
     "metadata": {},
     "output_type": "execute_result"
    }
   ],
   "source": [
    "sum(tuple_1)"
   ]
  },
  {
   "cell_type": "code",
   "execution_count": 111,
   "metadata": {},
   "outputs": [
    {
     "data": {
      "text/plain": [
       "3"
      ]
     },
     "execution_count": 111,
     "metadata": {},
     "output_type": "execute_result"
    }
   ],
   "source": [
    "len(tuple_2)"
   ]
  },
  {
   "cell_type": "code",
   "execution_count": 112,
   "metadata": {},
   "outputs": [
    {
     "data": {
      "text/plain": [
       "(1, 5, 6, 7, 8, 8, 9, 4)"
      ]
     },
     "execution_count": 112,
     "metadata": {},
     "output_type": "execute_result"
    }
   ],
   "source": [
    "tuple_1+tuple_2"
   ]
  },
  {
   "cell_type": "code",
   "execution_count": 113,
   "metadata": {},
   "outputs": [
    {
     "ename": "TypeError",
     "evalue": "'tuple' object does not support item assignment",
     "output_type": "error",
     "traceback": [
      "\u001b[1;31m---------------------------------------------------------------------------\u001b[0m",
      "\u001b[1;31mTypeError\u001b[0m                                 Traceback (most recent call last)",
      "\u001b[1;32m<ipython-input-113-bf6065b4ce4b>\u001b[0m in \u001b[0;36m<module>\u001b[1;34m\u001b[0m\n\u001b[1;32m----> 1\u001b[1;33m \u001b[0mtuple_1\u001b[0m\u001b[1;33m[\u001b[0m\u001b[1;36m3\u001b[0m\u001b[1;33m]\u001b[0m \u001b[1;33m=\u001b[0m \u001b[1;36m45\u001b[0m\u001b[1;33m\u001b[0m\u001b[1;33m\u001b[0m\u001b[0m\n\u001b[0m",
      "\u001b[1;31mTypeError\u001b[0m: 'tuple' object does not support item assignment"
     ]
    }
   ],
   "source": [
    "tuple_1[3] = 45"
   ]
  },
  {
   "cell_type": "markdown",
   "metadata": {},
   "source": [
    "# Assignment 18 - Ans 6"
   ]
  },
  {
   "cell_type": "code",
   "execution_count": 1,
   "metadata": {},
   "outputs": [
    {
     "data": {
      "text/plain": [
       "{1, 2, 3, 4, 5, 6}"
      ]
     },
     "execution_count": 1,
     "metadata": {},
     "output_type": "execute_result"
    }
   ],
   "source": [
    "S={1,2,3,4,4,4,5,6}\n",
    "S"
   ]
  },
  {
   "cell_type": "markdown",
   "metadata": {},
   "source": [
    "# Assignment 19\n",
    "\n",
    "Create an array with whole numbers values from 0 to 10 and find what is the command \n",
    "to extract the elements in the following sequence -\n",
    "array ([7,4,1])"
   ]
  },
  {
   "cell_type": "code",
   "execution_count": 38,
   "metadata": {},
   "outputs": [
    {
     "name": "stdout",
     "output_type": "stream",
     "text": [
      "[7 4 1]\n",
      "[7 4 1]\n"
     ]
    }
   ],
   "source": [
    "a1=np.arange(0,10)\n",
    "a1\n",
    "newarr=a1[np.array([-3,4,1])]\n",
    "print(newarr)\n",
    "print(a1[-3:0:-3])"
   ]
  },
  {
   "cell_type": "markdown",
   "metadata": {},
   "source": [
    "# Assignment 20\n",
    "Create a 2-dimensional array with 3 rows and 3 columns containing random numbers \n",
    "from 1 to 9. Find the difference between the maximum element across the columns and the \n",
    "minimum element across the rows."
   ]
  },
  {
   "cell_type": "code",
   "execution_count": 56,
   "metadata": {},
   "outputs": [
    {
     "name": "stdout",
     "output_type": "stream",
     "text": [
      "[[0.64177348 0.65475036 0.71192187]\n",
      " [0.05386796 0.83637759 0.21793102]\n",
      " [0.72992044 0.36245641 0.44477875]]\n",
      "Difference is : 0.7825096250914471\n"
     ]
    }
   ],
   "source": [
    "a1=np.random.rand(1,9).reshape([3,3])\n",
    "print(a1)\n",
    "ans=a1.max()-a1.min()\n",
    "print(\"Difference is :\",ans)"
   ]
  },
  {
   "cell_type": "markdown",
   "metadata": {},
   "source": [
    "# Assignment 21\n",
    "Consider the following data to answer the question below\n",
    "What is the command to convert the above dictionary into a dataframe named\n",
    "‘df_state’?"
   ]
  },
  {
   "cell_type": "code",
   "execution_count": 103,
   "metadata": {},
   "outputs": [
    {
     "data": {
      "text/html": [
       "<div>\n",
       "<style scoped>\n",
       "    .dataframe tbody tr th:only-of-type {\n",
       "        vertical-align: middle;\n",
       "    }\n",
       "\n",
       "    .dataframe tbody tr th {\n",
       "        vertical-align: top;\n",
       "    }\n",
       "\n",
       "    .dataframe thead th {\n",
       "        text-align: right;\n",
       "    }\n",
       "</style>\n",
       "<table border=\"1\" class=\"dataframe\">\n",
       "  <thead>\n",
       "    <tr style=\"text-align: right;\">\n",
       "      <th></th>\n",
       "      <th>State</th>\n",
       "      <th>Year</th>\n",
       "      <th>pop</th>\n",
       "    </tr>\n",
       "  </thead>\n",
       "  <tbody>\n",
       "    <tr>\n",
       "      <th>0</th>\n",
       "      <td>Goa</td>\n",
       "      <td>2010</td>\n",
       "      <td>2.5</td>\n",
       "    </tr>\n",
       "    <tr>\n",
       "      <th>1</th>\n",
       "      <td>Goa</td>\n",
       "      <td>2011</td>\n",
       "      <td>2.7</td>\n",
       "    </tr>\n",
       "    <tr>\n",
       "      <th>2</th>\n",
       "      <td>Goa</td>\n",
       "      <td>2012</td>\n",
       "      <td>4.6</td>\n",
       "    </tr>\n",
       "    <tr>\n",
       "      <th>3</th>\n",
       "      <td>Gujarat</td>\n",
       "      <td>2013</td>\n",
       "      <td>3.4</td>\n",
       "    </tr>\n",
       "    <tr>\n",
       "      <th>4</th>\n",
       "      <td>Gujarat</td>\n",
       "      <td>2014</td>\n",
       "      <td>3.9</td>\n",
       "    </tr>\n",
       "    <tr>\n",
       "      <th>5</th>\n",
       "      <td>Gujarat</td>\n",
       "      <td>2015</td>\n",
       "      <td>4.2</td>\n",
       "    </tr>\n",
       "  </tbody>\n",
       "</table>\n",
       "</div>"
      ],
      "text/plain": [
       "     State  Year  pop\n",
       "0      Goa  2010  2.5\n",
       "1      Goa  2011  2.7\n",
       "2      Goa  2012  4.6\n",
       "3  Gujarat  2013  3.4\n",
       "4  Gujarat  2014  3.9\n",
       "5  Gujarat  2015  4.2"
      ]
     },
     "execution_count": 103,
     "metadata": {},
     "output_type": "execute_result"
    }
   ],
   "source": [
    "state_data={'State':['Goa','Goa','Goa','Gujarat','Gujarat','Gujarat'], \n",
    "            'Year':['2010','2011','2012','2013','2014','2015'],\n",
    "            'pop':[2.5,2.7,4.6,3.4,3.9,4.2]\n",
    "           }\n",
    "df_state=pd.DataFrame(state_data)\n",
    "df_state"
   ]
  },
  {
   "cell_type": "markdown",
   "metadata": {},
   "source": [
    "# Assignment 22\n",
    "\n",
    " List 3 commands to display the columns of the above dataframe df_state."
   ]
  },
  {
   "cell_type": "code",
   "execution_count": 104,
   "metadata": {},
   "outputs": [
    {
     "data": {
      "text/plain": [
       "Index(['State', 'Year', 'pop'], dtype='object')"
      ]
     },
     "execution_count": 104,
     "metadata": {},
     "output_type": "execute_result"
    }
   ],
   "source": [
    "df_state.columns"
   ]
  },
  {
   "cell_type": "markdown",
   "metadata": {},
   "source": [
    "# Assignment 24"
   ]
  },
  {
   "cell_type": "code",
   "execution_count": 120,
   "metadata": {},
   "outputs": [
    {
     "name": "stdout",
     "output_type": "stream",
     "text": [
      "['Time', 'TotalBill', 'Tips']\n",
      "['TotalBill', 'Tips', 'Time']\n"
     ]
    }
   ],
   "source": [
    "\n",
    "df_col=df_tips[[\"Time\", \"TotalBill\", \"Tips\"]]\n",
    "print(list(df_col))\n",
    "l1=df_tips.columns\n",
    "l2=[]\n",
    "for i in l1:\n",
    "    if i.startswith('T'):\n",
    "        l2.append(i)\n",
    "print(l2)"
   ]
  },
  {
   "cell_type": "markdown",
   "metadata": {},
   "source": [
    "# Assignment 25"
   ]
  },
  {
   "cell_type": "code",
   "execution_count": 153,
   "metadata": {},
   "outputs": [],
   "source": [
    "df_tips1=pd.read_excel(r\"C:\\Users\\Priyadarshini\\Downloads\\Python datasets\\CCE-IIT-Madras-Python-for-Data-Science-Assignment\\tips11.xlsx\")"
   ]
  },
  {
   "cell_type": "code",
   "execution_count": null,
   "metadata": {},
   "outputs": [],
   "source": [
    "df_tips1"
   ]
  },
  {
   "cell_type": "code",
   "execution_count": 159,
   "metadata": {},
   "outputs": [],
   "source": [
    "df_tips= pd.read_csv(r\"C:\\Users\\Priyadarshini\\Downloads\\Python datasets\\CCE-IIT-Madras-Python-for-Data-Science-Assignment\\tips.csv\")"
   ]
  },
  {
   "cell_type": "code",
   "execution_count": 160,
   "metadata": {},
   "outputs": [
    {
     "data": {
      "text/html": [
       "<div>\n",
       "<style scoped>\n",
       "    .dataframe tbody tr th:only-of-type {\n",
       "        vertical-align: middle;\n",
       "    }\n",
       "\n",
       "    .dataframe tbody tr th {\n",
       "        vertical-align: top;\n",
       "    }\n",
       "\n",
       "    .dataframe thead th {\n",
       "        text-align: right;\n",
       "    }\n",
       "</style>\n",
       "<table border=\"1\" class=\"dataframe\">\n",
       "  <thead>\n",
       "    <tr style=\"text-align: right;\">\n",
       "      <th></th>\n",
       "      <th>SINO</th>\n",
       "      <th>TotalBill</th>\n",
       "      <th>Tips</th>\n",
       "      <th>Smoker</th>\n",
       "      <th>Day</th>\n",
       "      <th>Time</th>\n",
       "      <th>Size</th>\n",
       "      <th>Gender</th>\n",
       "    </tr>\n",
       "  </thead>\n",
       "  <tbody>\n",
       "    <tr>\n",
       "      <th>0</th>\n",
       "      <td>1</td>\n",
       "      <td>16.99</td>\n",
       "      <td>1.01</td>\n",
       "      <td>No</td>\n",
       "      <td>Sun</td>\n",
       "      <td>Dinner</td>\n",
       "      <td>2.0</td>\n",
       "      <td>Female</td>\n",
       "    </tr>\n",
       "    <tr>\n",
       "      <th>1</th>\n",
       "      <td>2</td>\n",
       "      <td>10.34</td>\n",
       "      <td>1.66</td>\n",
       "      <td>No</td>\n",
       "      <td>Sun</td>\n",
       "      <td>Dinner</td>\n",
       "      <td>3.0</td>\n",
       "      <td>Male</td>\n",
       "    </tr>\n",
       "    <tr>\n",
       "      <th>2</th>\n",
       "      <td>3</td>\n",
       "      <td>21.01</td>\n",
       "      <td>3.50</td>\n",
       "      <td>No</td>\n",
       "      <td>Sun</td>\n",
       "      <td>Dinner</td>\n",
       "      <td>3.0</td>\n",
       "      <td>Male</td>\n",
       "    </tr>\n",
       "    <tr>\n",
       "      <th>3</th>\n",
       "      <td>4</td>\n",
       "      <td>23.68</td>\n",
       "      <td>3.31</td>\n",
       "      <td>No</td>\n",
       "      <td>Sun</td>\n",
       "      <td>Dinner</td>\n",
       "      <td>2.0</td>\n",
       "      <td>Male</td>\n",
       "    </tr>\n",
       "    <tr>\n",
       "      <th>4</th>\n",
       "      <td>5</td>\n",
       "      <td>24.59</td>\n",
       "      <td>3.61</td>\n",
       "      <td>No</td>\n",
       "      <td>Sun</td>\n",
       "      <td>Dinner</td>\n",
       "      <td>4.0</td>\n",
       "      <td>Female</td>\n",
       "    </tr>\n",
       "    <tr>\n",
       "      <th>...</th>\n",
       "      <td>...</td>\n",
       "      <td>...</td>\n",
       "      <td>...</td>\n",
       "      <td>...</td>\n",
       "      <td>...</td>\n",
       "      <td>...</td>\n",
       "      <td>...</td>\n",
       "      <td>...</td>\n",
       "    </tr>\n",
       "    <tr>\n",
       "      <th>95</th>\n",
       "      <td>96</td>\n",
       "      <td>40.17</td>\n",
       "      <td>4.73</td>\n",
       "      <td>Yes</td>\n",
       "      <td>Fri</td>\n",
       "      <td>Dinner</td>\n",
       "      <td>4.0</td>\n",
       "      <td>Male</td>\n",
       "    </tr>\n",
       "    <tr>\n",
       "      <th>96</th>\n",
       "      <td>97</td>\n",
       "      <td>27.28</td>\n",
       "      <td>4.00</td>\n",
       "      <td>Yes</td>\n",
       "      <td>Fri</td>\n",
       "      <td>Dinner</td>\n",
       "      <td>2.0</td>\n",
       "      <td>Male</td>\n",
       "    </tr>\n",
       "    <tr>\n",
       "      <th>97</th>\n",
       "      <td>98</td>\n",
       "      <td>12.03</td>\n",
       "      <td>1.50</td>\n",
       "      <td>Yes</td>\n",
       "      <td>Fri</td>\n",
       "      <td>Dinner</td>\n",
       "      <td>2.0</td>\n",
       "      <td>Male</td>\n",
       "    </tr>\n",
       "    <tr>\n",
       "      <th>98</th>\n",
       "      <td>99</td>\n",
       "      <td>21.01</td>\n",
       "      <td>3.00</td>\n",
       "      <td>Yes</td>\n",
       "      <td>Fri</td>\n",
       "      <td>Dinner</td>\n",
       "      <td>2.0</td>\n",
       "      <td>Male</td>\n",
       "    </tr>\n",
       "    <tr>\n",
       "      <th>99</th>\n",
       "      <td>100</td>\n",
       "      <td>25.10</td>\n",
       "      <td>NaN</td>\n",
       "      <td>No</td>\n",
       "      <td>NaN</td>\n",
       "      <td>Lunch</td>\n",
       "      <td>2.0</td>\n",
       "      <td>NaN</td>\n",
       "    </tr>\n",
       "  </tbody>\n",
       "</table>\n",
       "<p>100 rows × 8 columns</p>\n",
       "</div>"
      ],
      "text/plain": [
       "    SINO  TotalBill  Tips Smoker  Day    Time  Size  Gender\n",
       "0      1      16.99  1.01     No  Sun  Dinner   2.0  Female\n",
       "1      2      10.34  1.66     No  Sun  Dinner   3.0    Male\n",
       "2      3      21.01  3.50     No  Sun  Dinner   3.0    Male\n",
       "3      4      23.68  3.31     No  Sun  Dinner   2.0    Male\n",
       "4      5      24.59  3.61     No  Sun  Dinner   4.0  Female\n",
       "..   ...        ...   ...    ...  ...     ...   ...     ...\n",
       "95    96      40.17  4.73    Yes  Fri  Dinner   4.0    Male\n",
       "96    97      27.28  4.00    Yes  Fri  Dinner   2.0    Male\n",
       "97    98      12.03  1.50    Yes  Fri  Dinner   2.0    Male\n",
       "98    99      21.01  3.00    Yes  Fri  Dinner   2.0    Male\n",
       "99   100      25.10   NaN     No  NaN   Lunch   2.0     NaN\n",
       "\n",
       "[100 rows x 8 columns]"
      ]
     },
     "execution_count": 160,
     "metadata": {},
     "output_type": "execute_result"
    }
   ],
   "source": [
    "df_tips"
   ]
  },
  {
   "cell_type": "code",
   "execution_count": 156,
   "metadata": {},
   "outputs": [
    {
     "data": {
      "text/html": [
       "<div>\n",
       "<style scoped>\n",
       "    .dataframe tbody tr th:only-of-type {\n",
       "        vertical-align: middle;\n",
       "    }\n",
       "\n",
       "    .dataframe tbody tr th {\n",
       "        vertical-align: top;\n",
       "    }\n",
       "\n",
       "    .dataframe thead th {\n",
       "        text-align: right;\n",
       "    }\n",
       "</style>\n",
       "<table border=\"1\" class=\"dataframe\">\n",
       "  <thead>\n",
       "    <tr style=\"text-align: right;\">\n",
       "      <th></th>\n",
       "      <th>SINO</th>\n",
       "      <th>TotalBill</th>\n",
       "      <th>Tips</th>\n",
       "      <th>Smoker</th>\n",
       "      <th>Day</th>\n",
       "      <th>Time</th>\n",
       "      <th>Size</th>\n",
       "      <th>Gender</th>\n",
       "    </tr>\n",
       "  </thead>\n",
       "  <tbody>\n",
       "    <tr>\n",
       "      <th>0</th>\n",
       "      <td>1</td>\n",
       "      <td>16.99</td>\n",
       "      <td>1.01</td>\n",
       "      <td>No</td>\n",
       "      <td>Sun</td>\n",
       "      <td>Dinner</td>\n",
       "      <td>2.0</td>\n",
       "      <td>Female</td>\n",
       "    </tr>\n",
       "    <tr>\n",
       "      <th>1</th>\n",
       "      <td>2</td>\n",
       "      <td>10.34</td>\n",
       "      <td>1.66</td>\n",
       "      <td>No</td>\n",
       "      <td>Sun</td>\n",
       "      <td>Dinner</td>\n",
       "      <td>3.0</td>\n",
       "      <td>Male</td>\n",
       "    </tr>\n",
       "    <tr>\n",
       "      <th>2</th>\n",
       "      <td>3</td>\n",
       "      <td>21.01</td>\n",
       "      <td>3.50</td>\n",
       "      <td>No</td>\n",
       "      <td>Sun</td>\n",
       "      <td>Dinner</td>\n",
       "      <td>3.0</td>\n",
       "      <td>Male</td>\n",
       "    </tr>\n",
       "    <tr>\n",
       "      <th>3</th>\n",
       "      <td>4</td>\n",
       "      <td>23.68</td>\n",
       "      <td>3.31</td>\n",
       "      <td>No</td>\n",
       "      <td>Sun</td>\n",
       "      <td>Dinner</td>\n",
       "      <td>2.0</td>\n",
       "      <td>Male</td>\n",
       "    </tr>\n",
       "    <tr>\n",
       "      <th>4</th>\n",
       "      <td>5</td>\n",
       "      <td>24.59</td>\n",
       "      <td>3.61</td>\n",
       "      <td>No</td>\n",
       "      <td>Sun</td>\n",
       "      <td>Dinner</td>\n",
       "      <td>4.0</td>\n",
       "      <td>Female</td>\n",
       "    </tr>\n",
       "    <tr>\n",
       "      <th>...</th>\n",
       "      <td>...</td>\n",
       "      <td>...</td>\n",
       "      <td>...</td>\n",
       "      <td>...</td>\n",
       "      <td>...</td>\n",
       "      <td>...</td>\n",
       "      <td>...</td>\n",
       "      <td>...</td>\n",
       "    </tr>\n",
       "    <tr>\n",
       "      <th>95</th>\n",
       "      <td>96</td>\n",
       "      <td>40.17</td>\n",
       "      <td>4.73</td>\n",
       "      <td>Yes</td>\n",
       "      <td>Fri</td>\n",
       "      <td>Dinner</td>\n",
       "      <td>4.0</td>\n",
       "      <td>Male</td>\n",
       "    </tr>\n",
       "    <tr>\n",
       "      <th>96</th>\n",
       "      <td>97</td>\n",
       "      <td>27.28</td>\n",
       "      <td>4.00</td>\n",
       "      <td>Yes</td>\n",
       "      <td>Fri</td>\n",
       "      <td>Dinner</td>\n",
       "      <td>2.0</td>\n",
       "      <td>Male</td>\n",
       "    </tr>\n",
       "    <tr>\n",
       "      <th>97</th>\n",
       "      <td>98</td>\n",
       "      <td>12.03</td>\n",
       "      <td>1.50</td>\n",
       "      <td>Yes</td>\n",
       "      <td>Fri</td>\n",
       "      <td>Dinner</td>\n",
       "      <td>2.0</td>\n",
       "      <td>Male</td>\n",
       "    </tr>\n",
       "    <tr>\n",
       "      <th>98</th>\n",
       "      <td>99</td>\n",
       "      <td>21.01</td>\n",
       "      <td>3.00</td>\n",
       "      <td>Yes</td>\n",
       "      <td>Fri</td>\n",
       "      <td>Dinner</td>\n",
       "      <td>2.0</td>\n",
       "      <td>Male</td>\n",
       "    </tr>\n",
       "    <tr>\n",
       "      <th>99</th>\n",
       "      <td>100</td>\n",
       "      <td>25.10</td>\n",
       "      <td>NaN</td>\n",
       "      <td>No</td>\n",
       "      <td>NaN</td>\n",
       "      <td>Lunch</td>\n",
       "      <td>2.0</td>\n",
       "      <td>NaN</td>\n",
       "    </tr>\n",
       "  </tbody>\n",
       "</table>\n",
       "<p>100 rows × 8 columns</p>\n",
       "</div>"
      ],
      "text/plain": [
       "    SINO  TotalBill  Tips Smoker  Day    Time  Size  Gender\n",
       "0      1      16.99  1.01     No  Sun  Dinner   2.0  Female\n",
       "1      2      10.34  1.66     No  Sun  Dinner   3.0    Male\n",
       "2      3      21.01  3.50     No  Sun  Dinner   3.0    Male\n",
       "3      4      23.68  3.31     No  Sun  Dinner   2.0    Male\n",
       "4      5      24.59  3.61     No  Sun  Dinner   4.0  Female\n",
       "..   ...        ...   ...    ...  ...     ...   ...     ...\n",
       "95    96      40.17  4.73    Yes  Fri  Dinner   4.0    Male\n",
       "96    97      27.28  4.00    Yes  Fri  Dinner   2.0    Male\n",
       "97    98      12.03  1.50    Yes  Fri  Dinner   2.0    Male\n",
       "98    99      21.01  3.00    Yes  Fri  Dinner   2.0    Male\n",
       "99   100      25.10   NaN     No  NaN   Lunch   2.0     NaN\n",
       "\n",
       "[100 rows x 8 columns]"
      ]
     },
     "execution_count": 156,
     "metadata": {},
     "output_type": "execute_result"
    }
   ],
   "source": [
    "pd.merge(df_tips,df_tips1)"
   ]
  },
  {
   "cell_type": "code",
   "execution_count": 157,
   "metadata": {},
   "outputs": [],
   "source": [
    "Data2 = df_tips1.copy()"
   ]
  },
  {
   "cell_type": "code",
   "execution_count": 172,
   "metadata": {},
   "outputs": [],
   "source": [
    "data=df_tips.groupby(by='Day').sum()['TotalBill']"
   ]
  },
  {
   "cell_type": "code",
   "execution_count": 173,
   "metadata": {},
   "outputs": [
    {
     "data": {
      "text/plain": [
       "Day\n",
       "Fri     196.77\n",
       "Sat     697.43\n",
       "Sun     632.91\n",
       "Thur    254.65\n",
       "Name: TotalBill, dtype: float64"
      ]
     },
     "execution_count": 173,
     "metadata": {},
     "output_type": "execute_result"
    }
   ],
   "source": [
    "data"
   ]
  },
  {
   "cell_type": "markdown",
   "metadata": {},
   "source": [
    "# Assignment 31\n",
    "Match the terms in Group A with the relevant terms in GroupB\n",
    " Group A                             Group B\n",
    " K means                             k is no. of clusters\n",
    " clustering                          unsupervised learning algorithm     \n",
    " knn                                 k is no. of neighbors\n",
    " logistic regression                 logit function\n"
   ]
  },
  {
   "cell_type": "markdown",
   "metadata": {},
   "source": [
    "# Assignment 32\n",
    "\n",
    "Each centroid in K- means algorithm defines one  cluster"
   ]
  },
  {
   "cell_type": "markdown",
   "metadata": {},
   "source": [
    "# assignment 33\n",
    "\n",
    " The method / metric which is NOT useful to determine the optimal number of clustersin \n",
    "unsupervised clustering algorithms is scatter plot"
   ]
  },
  {
   "cell_type": "markdown",
   "metadata": {},
   "source": [
    "# Assignment 34\n",
    "\n",
    "In the K-means algorithm, what is the most commonly used distance metric to calculate \n",
    "distance between centroid of each cluster and data points  Euclidean"
   ]
  },
  {
   "cell_type": "code",
   "execution_count": null,
   "metadata": {},
   "outputs": [],
   "source": [
    "# Assignment 35\n",
    "\n",
    "Which of the following statements is not correct about k-means\n",
    "K-Means clustering is NOT influenced by initial centroids which are called \n",
    "cluster seed"
   ]
  },
  {
   "cell_type": "code",
   "execution_count": null,
   "metadata": {},
   "outputs": [],
   "source": [
    "# Assignmen 25-30"
   ]
  },
  {
   "cell_type": "code",
   "execution_count": 2,
   "metadata": {},
   "outputs": [],
   "source": [
    "df_stock1=pd.read_csv(r\"C:\\Users\\Priyadarshini\\Downloads\\Python datasets\\CCE-IIT-Madras-Python-for-Data-Science-Assignment\\Stock_File_1.csv\")"
   ]
  },
  {
   "cell_type": "markdown",
   "metadata": {},
   "source": [
    "df_stock1.head()"
   ]
  },
  {
   "cell_type": "code",
   "execution_count": 4,
   "metadata": {},
   "outputs": [],
   "source": [
    "# Assignment 26 30"
   ]
  },
  {
   "cell_type": "code",
   "execution_count": 6,
   "metadata": {},
   "outputs": [],
   "source": [
    "df_cem=pd.read_csv(r\"C:\\Users\\Priyadarshini\\Downloads\\Python datasets\\CCE-IIT-Madras-Python-for-Data-Science-Assignment\\Concrete Compressive Strength.csv\")"
   ]
  },
  {
   "cell_type": "code",
   "execution_count": 7,
   "metadata": {},
   "outputs": [
    {
     "data": {
      "text/html": [
       "<div>\n",
       "<style scoped>\n",
       "    .dataframe tbody tr th:only-of-type {\n",
       "        vertical-align: middle;\n",
       "    }\n",
       "\n",
       "    .dataframe tbody tr th {\n",
       "        vertical-align: top;\n",
       "    }\n",
       "\n",
       "    .dataframe thead th {\n",
       "        text-align: right;\n",
       "    }\n",
       "</style>\n",
       "<table border=\"1\" class=\"dataframe\">\n",
       "  <thead>\n",
       "    <tr style=\"text-align: right;\">\n",
       "      <th></th>\n",
       "      <th>Cement (component 1)(kg in a m^3 mixture)</th>\n",
       "      <th>Blast Furnace Slag (component 2)(kg in a m^3 mixture)</th>\n",
       "      <th>Fly Ash (component 3)(kg in a m^3 mixture)</th>\n",
       "      <th>Water  (component 4)(kg in a m^3 mixture)</th>\n",
       "      <th>Superplasticizer (component 5)(kg in a m^3 mixture)</th>\n",
       "      <th>Coarse Aggregate  (component 6)(kg in a m^3 mixture)</th>\n",
       "      <th>Fine Aggregate (component 7)(kg in a m^3 mixture)</th>\n",
       "      <th>Age (day)</th>\n",
       "      <th>Concrete compressive strength(MPa, megapascals)</th>\n",
       "    </tr>\n",
       "  </thead>\n",
       "  <tbody>\n",
       "    <tr>\n",
       "      <th>0</th>\n",
       "      <td>540.0</td>\n",
       "      <td>0.0</td>\n",
       "      <td>0.0</td>\n",
       "      <td>162.0</td>\n",
       "      <td>2.5</td>\n",
       "      <td>1040.0</td>\n",
       "      <td>676.0</td>\n",
       "      <td>28</td>\n",
       "      <td>79.986111</td>\n",
       "    </tr>\n",
       "    <tr>\n",
       "      <th>1</th>\n",
       "      <td>540.0</td>\n",
       "      <td>0.0</td>\n",
       "      <td>0.0</td>\n",
       "      <td>162.0</td>\n",
       "      <td>2.5</td>\n",
       "      <td>1055.0</td>\n",
       "      <td>676.0</td>\n",
       "      <td>28</td>\n",
       "      <td>61.887366</td>\n",
       "    </tr>\n",
       "    <tr>\n",
       "      <th>2</th>\n",
       "      <td>332.5</td>\n",
       "      <td>142.5</td>\n",
       "      <td>0.0</td>\n",
       "      <td>228.0</td>\n",
       "      <td>0.0</td>\n",
       "      <td>932.0</td>\n",
       "      <td>594.0</td>\n",
       "      <td>270</td>\n",
       "      <td>40.269535</td>\n",
       "    </tr>\n",
       "    <tr>\n",
       "      <th>3</th>\n",
       "      <td>332.5</td>\n",
       "      <td>142.5</td>\n",
       "      <td>0.0</td>\n",
       "      <td>228.0</td>\n",
       "      <td>0.0</td>\n",
       "      <td>932.0</td>\n",
       "      <td>594.0</td>\n",
       "      <td>365</td>\n",
       "      <td>41.052780</td>\n",
       "    </tr>\n",
       "    <tr>\n",
       "      <th>4</th>\n",
       "      <td>198.6</td>\n",
       "      <td>132.4</td>\n",
       "      <td>0.0</td>\n",
       "      <td>192.0</td>\n",
       "      <td>0.0</td>\n",
       "      <td>978.4</td>\n",
       "      <td>825.5</td>\n",
       "      <td>360</td>\n",
       "      <td>44.296075</td>\n",
       "    </tr>\n",
       "  </tbody>\n",
       "</table>\n",
       "</div>"
      ],
      "text/plain": [
       "   Cement (component 1)(kg in a m^3 mixture)  \\\n",
       "0                                      540.0   \n",
       "1                                      540.0   \n",
       "2                                      332.5   \n",
       "3                                      332.5   \n",
       "4                                      198.6   \n",
       "\n",
       "   Blast Furnace Slag (component 2)(kg in a m^3 mixture)  \\\n",
       "0                                                0.0       \n",
       "1                                                0.0       \n",
       "2                                              142.5       \n",
       "3                                              142.5       \n",
       "4                                              132.4       \n",
       "\n",
       "   Fly Ash (component 3)(kg in a m^3 mixture)  \\\n",
       "0                                         0.0   \n",
       "1                                         0.0   \n",
       "2                                         0.0   \n",
       "3                                         0.0   \n",
       "4                                         0.0   \n",
       "\n",
       "   Water  (component 4)(kg in a m^3 mixture)  \\\n",
       "0                                      162.0   \n",
       "1                                      162.0   \n",
       "2                                      228.0   \n",
       "3                                      228.0   \n",
       "4                                      192.0   \n",
       "\n",
       "   Superplasticizer (component 5)(kg in a m^3 mixture)  \\\n",
       "0                                                2.5     \n",
       "1                                                2.5     \n",
       "2                                                0.0     \n",
       "3                                                0.0     \n",
       "4                                                0.0     \n",
       "\n",
       "   Coarse Aggregate  (component 6)(kg in a m^3 mixture)  \\\n",
       "0                                             1040.0      \n",
       "1                                             1055.0      \n",
       "2                                              932.0      \n",
       "3                                              932.0      \n",
       "4                                              978.4      \n",
       "\n",
       "   Fine Aggregate (component 7)(kg in a m^3 mixture)  Age (day)  \\\n",
       "0                                              676.0         28   \n",
       "1                                              676.0         28   \n",
       "2                                              594.0        270   \n",
       "3                                              594.0        365   \n",
       "4                                              825.5        360   \n",
       "\n",
       "   Concrete compressive strength(MPa, megapascals)   \n",
       "0                                         79.986111  \n",
       "1                                         61.887366  \n",
       "2                                         40.269535  \n",
       "3                                         41.052780  \n",
       "4                                         44.296075  "
      ]
     },
     "execution_count": 7,
     "metadata": {},
     "output_type": "execute_result"
    }
   ],
   "source": [
    "df_cem.head()"
   ]
  },
  {
   "cell_type": "code",
   "execution_count": 14,
   "metadata": {},
   "outputs": [],
   "source": [
    "df_cem.columns=['Comp1_cem','Comp2_Blast','Comp3_Ash','Comp4_water','Comp5_plasticizer','Comp6_Coarse','Comp7_Agg','Age','CCS']"
   ]
  },
  {
   "cell_type": "code",
   "execution_count": 15,
   "metadata": {},
   "outputs": [
    {
     "data": {
      "text/html": [
       "<div>\n",
       "<style scoped>\n",
       "    .dataframe tbody tr th:only-of-type {\n",
       "        vertical-align: middle;\n",
       "    }\n",
       "\n",
       "    .dataframe tbody tr th {\n",
       "        vertical-align: top;\n",
       "    }\n",
       "\n",
       "    .dataframe thead th {\n",
       "        text-align: right;\n",
       "    }\n",
       "</style>\n",
       "<table border=\"1\" class=\"dataframe\">\n",
       "  <thead>\n",
       "    <tr style=\"text-align: right;\">\n",
       "      <th></th>\n",
       "      <th>Comp1_cem</th>\n",
       "      <th>Comp2_Blast</th>\n",
       "      <th>Comp3_Ash</th>\n",
       "      <th>Comp4_water</th>\n",
       "      <th>Comp5_plasticizer</th>\n",
       "      <th>Comp6_Coarse</th>\n",
       "      <th>Comp7_Agg</th>\n",
       "      <th>Age</th>\n",
       "      <th>CCS</th>\n",
       "    </tr>\n",
       "  </thead>\n",
       "  <tbody>\n",
       "    <tr>\n",
       "      <th>0</th>\n",
       "      <td>540.0</td>\n",
       "      <td>0.0</td>\n",
       "      <td>0.0</td>\n",
       "      <td>162.0</td>\n",
       "      <td>2.5</td>\n",
       "      <td>1040.0</td>\n",
       "      <td>676.0</td>\n",
       "      <td>28</td>\n",
       "      <td>79.986111</td>\n",
       "    </tr>\n",
       "    <tr>\n",
       "      <th>1</th>\n",
       "      <td>540.0</td>\n",
       "      <td>0.0</td>\n",
       "      <td>0.0</td>\n",
       "      <td>162.0</td>\n",
       "      <td>2.5</td>\n",
       "      <td>1055.0</td>\n",
       "      <td>676.0</td>\n",
       "      <td>28</td>\n",
       "      <td>61.887366</td>\n",
       "    </tr>\n",
       "    <tr>\n",
       "      <th>2</th>\n",
       "      <td>332.5</td>\n",
       "      <td>142.5</td>\n",
       "      <td>0.0</td>\n",
       "      <td>228.0</td>\n",
       "      <td>0.0</td>\n",
       "      <td>932.0</td>\n",
       "      <td>594.0</td>\n",
       "      <td>270</td>\n",
       "      <td>40.269535</td>\n",
       "    </tr>\n",
       "    <tr>\n",
       "      <th>3</th>\n",
       "      <td>332.5</td>\n",
       "      <td>142.5</td>\n",
       "      <td>0.0</td>\n",
       "      <td>228.0</td>\n",
       "      <td>0.0</td>\n",
       "      <td>932.0</td>\n",
       "      <td>594.0</td>\n",
       "      <td>365</td>\n",
       "      <td>41.052780</td>\n",
       "    </tr>\n",
       "    <tr>\n",
       "      <th>4</th>\n",
       "      <td>198.6</td>\n",
       "      <td>132.4</td>\n",
       "      <td>0.0</td>\n",
       "      <td>192.0</td>\n",
       "      <td>0.0</td>\n",
       "      <td>978.4</td>\n",
       "      <td>825.5</td>\n",
       "      <td>360</td>\n",
       "      <td>44.296075</td>\n",
       "    </tr>\n",
       "  </tbody>\n",
       "</table>\n",
       "</div>"
      ],
      "text/plain": [
       "   Comp1_cem  Comp2_Blast  Comp3_Ash  Comp4_water  Comp5_plasticizer  \\\n",
       "0      540.0          0.0        0.0        162.0                2.5   \n",
       "1      540.0          0.0        0.0        162.0                2.5   \n",
       "2      332.5        142.5        0.0        228.0                0.0   \n",
       "3      332.5        142.5        0.0        228.0                0.0   \n",
       "4      198.6        132.4        0.0        192.0                0.0   \n",
       "\n",
       "   Comp6_Coarse  Comp7_Agg  Age        CCS  \n",
       "0        1040.0      676.0   28  79.986111  \n",
       "1        1055.0      676.0   28  61.887366  \n",
       "2         932.0      594.0  270  40.269535  \n",
       "3         932.0      594.0  365  41.052780  \n",
       "4         978.4      825.5  360  44.296075  "
      ]
     },
     "execution_count": 15,
     "metadata": {},
     "output_type": "execute_result"
    }
   ],
   "source": [
    "df_cem.head()"
   ]
  },
  {
   "cell_type": "code",
   "execution_count": 9,
   "metadata": {},
   "outputs": [
    {
     "data": {
      "text/plain": [
       "Cement (component 1)(kg in a m^3 mixture)                0\n",
       "Blast Furnace Slag (component 2)(kg in a m^3 mixture)    0\n",
       "Fly Ash (component 3)(kg in a m^3 mixture)               0\n",
       "Water  (component 4)(kg in a m^3 mixture)                0\n",
       "Superplasticizer (component 5)(kg in a m^3 mixture)      0\n",
       "Coarse Aggregate  (component 6)(kg in a m^3 mixture)     0\n",
       "Fine Aggregate (component 7)(kg in a m^3 mixture)        0\n",
       "Age (day)                                                0\n",
       "Concrete compressive strength(MPa, megapascals)          0\n",
       "dtype: int64"
      ]
     },
     "execution_count": 9,
     "metadata": {},
     "output_type": "execute_result"
    }
   ],
   "source": [
    "#The total number of missing values within the dataset.  - No missing values\n",
    "df_cem.isna().sum()"
   ]
  },
  {
   "cell_type": "code",
   "execution_count": 10,
   "metadata": {},
   "outputs": [
    {
     "name": "stdout",
     "output_type": "stream",
     "text": [
      "<class 'pandas.core.frame.DataFrame'>\n",
      "RangeIndex: 1030 entries, 0 to 1029\n",
      "Data columns (total 9 columns):\n",
      " #   Column                                                 Non-Null Count  Dtype  \n",
      "---  ------                                                 --------------  -----  \n",
      " 0   Cement (component 1)(kg in a m^3 mixture)              1030 non-null   float64\n",
      " 1   Blast Furnace Slag (component 2)(kg in a m^3 mixture)  1030 non-null   float64\n",
      " 2   Fly Ash (component 3)(kg in a m^3 mixture)             1030 non-null   float64\n",
      " 3   Water  (component 4)(kg in a m^3 mixture)              1030 non-null   float64\n",
      " 4   Superplasticizer (component 5)(kg in a m^3 mixture)    1030 non-null   float64\n",
      " 5   Coarse Aggregate  (component 6)(kg in a m^3 mixture)   1030 non-null   float64\n",
      " 6   Fine Aggregate (component 7)(kg in a m^3 mixture)      1030 non-null   float64\n",
      " 7   Age (day)                                              1030 non-null   int64  \n",
      " 8   Concrete compressive strength(MPa, megapascals)        1030 non-null   float64\n",
      "dtypes: float64(8), int64(1)\n",
      "memory usage: 72.5 KB\n"
     ]
    }
   ],
   "source": [
    "# Which column / feature requires correction in the type of value they hold\n",
    "df_cem.info()"
   ]
  },
  {
   "cell_type": "code",
   "execution_count": 16,
   "metadata": {},
   "outputs": [
    {
     "data": {
      "text/plain": [
       "35.81783582611362"
      ]
     },
     "execution_count": 16,
     "metadata": {},
     "output_type": "execute_result"
    }
   ],
   "source": [
    "# After imputation of nulls with mean what is the average value of thecompressive strength in concrete?\n",
    "df_cem['CCS'].mean()"
   ]
  },
  {
   "cell_type": "code",
   "execution_count": 30,
   "metadata": {},
   "outputs": [
    {
     "data": {
      "text/html": [
       "<div>\n",
       "<style scoped>\n",
       "    .dataframe tbody tr th:only-of-type {\n",
       "        vertical-align: middle;\n",
       "    }\n",
       "\n",
       "    .dataframe tbody tr th {\n",
       "        vertical-align: top;\n",
       "    }\n",
       "\n",
       "    .dataframe thead th {\n",
       "        text-align: right;\n",
       "    }\n",
       "</style>\n",
       "<table border=\"1\" class=\"dataframe\">\n",
       "  <thead>\n",
       "    <tr style=\"text-align: right;\">\n",
       "      <th></th>\n",
       "      <th>Comp1_cem</th>\n",
       "      <th>Comp2_Blast</th>\n",
       "      <th>Comp3_Ash</th>\n",
       "      <th>Comp4_water</th>\n",
       "      <th>Comp5_plasticizer</th>\n",
       "      <th>Comp6_Coarse</th>\n",
       "      <th>Comp7_Agg</th>\n",
       "      <th>Age</th>\n",
       "      <th>CCS</th>\n",
       "    </tr>\n",
       "  </thead>\n",
       "  <tbody>\n",
       "    <tr>\n",
       "      <th>Comp1_cem</th>\n",
       "      <td>1.000000</td>\n",
       "      <td>-0.275193</td>\n",
       "      <td>-0.397475</td>\n",
       "      <td>-0.081544</td>\n",
       "      <td>0.092771</td>\n",
       "      <td>-0.109356</td>\n",
       "      <td>-0.222720</td>\n",
       "      <td>0.081947</td>\n",
       "      <td>0.497833</td>\n",
       "    </tr>\n",
       "    <tr>\n",
       "      <th>Comp2_Blast</th>\n",
       "      <td>-0.275193</td>\n",
       "      <td>1.000000</td>\n",
       "      <td>-0.323569</td>\n",
       "      <td>0.107286</td>\n",
       "      <td>0.043376</td>\n",
       "      <td>-0.283998</td>\n",
       "      <td>-0.281593</td>\n",
       "      <td>-0.044246</td>\n",
       "      <td>0.134824</td>\n",
       "    </tr>\n",
       "    <tr>\n",
       "      <th>Comp3_Ash</th>\n",
       "      <td>-0.397475</td>\n",
       "      <td>-0.323569</td>\n",
       "      <td>1.000000</td>\n",
       "      <td>-0.257044</td>\n",
       "      <td>0.377340</td>\n",
       "      <td>-0.009977</td>\n",
       "      <td>0.079076</td>\n",
       "      <td>-0.154370</td>\n",
       "      <td>-0.105753</td>\n",
       "    </tr>\n",
       "    <tr>\n",
       "      <th>Comp4_water</th>\n",
       "      <td>-0.081544</td>\n",
       "      <td>0.107286</td>\n",
       "      <td>-0.257044</td>\n",
       "      <td>1.000000</td>\n",
       "      <td>-0.657464</td>\n",
       "      <td>-0.182312</td>\n",
       "      <td>-0.450635</td>\n",
       "      <td>0.277604</td>\n",
       "      <td>-0.289613</td>\n",
       "    </tr>\n",
       "    <tr>\n",
       "      <th>Comp5_plasticizer</th>\n",
       "      <td>0.092771</td>\n",
       "      <td>0.043376</td>\n",
       "      <td>0.377340</td>\n",
       "      <td>-0.657464</td>\n",
       "      <td>1.000000</td>\n",
       "      <td>-0.266303</td>\n",
       "      <td>0.222501</td>\n",
       "      <td>-0.192717</td>\n",
       "      <td>0.366102</td>\n",
       "    </tr>\n",
       "    <tr>\n",
       "      <th>Comp6_Coarse</th>\n",
       "      <td>-0.109356</td>\n",
       "      <td>-0.283998</td>\n",
       "      <td>-0.009977</td>\n",
       "      <td>-0.182312</td>\n",
       "      <td>-0.266303</td>\n",
       "      <td>1.000000</td>\n",
       "      <td>-0.178506</td>\n",
       "      <td>-0.003016</td>\n",
       "      <td>-0.164928</td>\n",
       "    </tr>\n",
       "    <tr>\n",
       "      <th>Comp7_Agg</th>\n",
       "      <td>-0.222720</td>\n",
       "      <td>-0.281593</td>\n",
       "      <td>0.079076</td>\n",
       "      <td>-0.450635</td>\n",
       "      <td>0.222501</td>\n",
       "      <td>-0.178506</td>\n",
       "      <td>1.000000</td>\n",
       "      <td>-0.156094</td>\n",
       "      <td>-0.167249</td>\n",
       "    </tr>\n",
       "    <tr>\n",
       "      <th>Age</th>\n",
       "      <td>0.081947</td>\n",
       "      <td>-0.044246</td>\n",
       "      <td>-0.154370</td>\n",
       "      <td>0.277604</td>\n",
       "      <td>-0.192717</td>\n",
       "      <td>-0.003016</td>\n",
       "      <td>-0.156094</td>\n",
       "      <td>1.000000</td>\n",
       "      <td>0.328877</td>\n",
       "    </tr>\n",
       "    <tr>\n",
       "      <th>CCS</th>\n",
       "      <td>0.497833</td>\n",
       "      <td>0.134824</td>\n",
       "      <td>-0.105753</td>\n",
       "      <td>-0.289613</td>\n",
       "      <td>0.366102</td>\n",
       "      <td>-0.164928</td>\n",
       "      <td>-0.167249</td>\n",
       "      <td>0.328877</td>\n",
       "      <td>1.000000</td>\n",
       "    </tr>\n",
       "  </tbody>\n",
       "</table>\n",
       "</div>"
      ],
      "text/plain": [
       "                   Comp1_cem  Comp2_Blast  Comp3_Ash  Comp4_water  \\\n",
       "Comp1_cem           1.000000    -0.275193  -0.397475    -0.081544   \n",
       "Comp2_Blast        -0.275193     1.000000  -0.323569     0.107286   \n",
       "Comp3_Ash          -0.397475    -0.323569   1.000000    -0.257044   \n",
       "Comp4_water        -0.081544     0.107286  -0.257044     1.000000   \n",
       "Comp5_plasticizer   0.092771     0.043376   0.377340    -0.657464   \n",
       "Comp6_Coarse       -0.109356    -0.283998  -0.009977    -0.182312   \n",
       "Comp7_Agg          -0.222720    -0.281593   0.079076    -0.450635   \n",
       "Age                 0.081947    -0.044246  -0.154370     0.277604   \n",
       "CCS                 0.497833     0.134824  -0.105753    -0.289613   \n",
       "\n",
       "                   Comp5_plasticizer  Comp6_Coarse  Comp7_Agg       Age  \\\n",
       "Comp1_cem                   0.092771     -0.109356  -0.222720  0.081947   \n",
       "Comp2_Blast                 0.043376     -0.283998  -0.281593 -0.044246   \n",
       "Comp3_Ash                   0.377340     -0.009977   0.079076 -0.154370   \n",
       "Comp4_water                -0.657464     -0.182312  -0.450635  0.277604   \n",
       "Comp5_plasticizer           1.000000     -0.266303   0.222501 -0.192717   \n",
       "Comp6_Coarse               -0.266303      1.000000  -0.178506 -0.003016   \n",
       "Comp7_Agg                   0.222501     -0.178506   1.000000 -0.156094   \n",
       "Age                        -0.192717     -0.003016  -0.156094  1.000000   \n",
       "CCS                         0.366102     -0.164928  -0.167249  0.328877   \n",
       "\n",
       "                        CCS  \n",
       "Comp1_cem          0.497833  \n",
       "Comp2_Blast        0.134824  \n",
       "Comp3_Ash         -0.105753  \n",
       "Comp4_water       -0.289613  \n",
       "Comp5_plasticizer  0.366102  \n",
       "Comp6_Coarse      -0.164928  \n",
       "Comp7_Agg         -0.167249  \n",
       "Age                0.328877  \n",
       "CCS                1.000000  "
      ]
     },
     "execution_count": 30,
     "metadata": {},
     "output_type": "execute_result"
    }
   ],
   "source": [
    "# The feature that has a moderately strong relationship with compressive strength in concrete is - Comp1_cem\n",
    "df_cem.corr()"
   ]
  },
  {
   "cell_type": "code",
   "execution_count": 71,
   "metadata": {},
   "outputs": [],
   "source": [
    "from sklearn.preprocessing import StandardScaler\n",
    "scaler = StandardScaler()\n",
    "scaled_data = scaler.fit_transform(df_cem.iloc[:,:-1])"
   ]
  },
  {
   "cell_type": "code",
   "execution_count": 72,
   "metadata": {},
   "outputs": [],
   "source": [
    "df_cem1=pd.DataFrame(scaled_data,columns=['Comp1_cem','Comp2_Blast','Comp3_Ash','Comp4_water','Comp5_plasticizer','Comp6_Coarse','Comp7_Agg','Age'])"
   ]
  },
  {
   "cell_type": "code",
   "execution_count": 73,
   "metadata": {},
   "outputs": [
    {
     "data": {
      "text/html": [
       "<div>\n",
       "<style scoped>\n",
       "    .dataframe tbody tr th:only-of-type {\n",
       "        vertical-align: middle;\n",
       "    }\n",
       "\n",
       "    .dataframe tbody tr th {\n",
       "        vertical-align: top;\n",
       "    }\n",
       "\n",
       "    .dataframe thead th {\n",
       "        text-align: right;\n",
       "    }\n",
       "</style>\n",
       "<table border=\"1\" class=\"dataframe\">\n",
       "  <thead>\n",
       "    <tr style=\"text-align: right;\">\n",
       "      <th></th>\n",
       "      <th>Comp1_cem</th>\n",
       "      <th>Comp2_Blast</th>\n",
       "      <th>Comp3_Ash</th>\n",
       "      <th>Comp4_water</th>\n",
       "      <th>Comp5_plasticizer</th>\n",
       "      <th>Comp6_Coarse</th>\n",
       "      <th>Comp7_Agg</th>\n",
       "      <th>Age</th>\n",
       "    </tr>\n",
       "  </thead>\n",
       "  <tbody>\n",
       "    <tr>\n",
       "      <th>0</th>\n",
       "      <td>2.477918</td>\n",
       "      <td>-0.856886</td>\n",
       "      <td>-0.847132</td>\n",
       "      <td>-0.916663</td>\n",
       "      <td>-0.620225</td>\n",
       "      <td>0.863160</td>\n",
       "      <td>-1.217658</td>\n",
       "      <td>-0.279733</td>\n",
       "    </tr>\n",
       "    <tr>\n",
       "      <th>1</th>\n",
       "      <td>2.477918</td>\n",
       "      <td>-0.856886</td>\n",
       "      <td>-0.847132</td>\n",
       "      <td>-0.916663</td>\n",
       "      <td>-0.620225</td>\n",
       "      <td>1.056170</td>\n",
       "      <td>-1.217658</td>\n",
       "      <td>-0.279733</td>\n",
       "    </tr>\n",
       "    <tr>\n",
       "      <th>2</th>\n",
       "      <td>0.491443</td>\n",
       "      <td>0.795533</td>\n",
       "      <td>-0.847132</td>\n",
       "      <td>2.175367</td>\n",
       "      <td>-1.038944</td>\n",
       "      <td>-0.526514</td>\n",
       "      <td>-2.240913</td>\n",
       "      <td>3.553066</td>\n",
       "    </tr>\n",
       "    <tr>\n",
       "      <th>3</th>\n",
       "      <td>0.491443</td>\n",
       "      <td>0.795533</td>\n",
       "      <td>-0.847132</td>\n",
       "      <td>2.175367</td>\n",
       "      <td>-1.038944</td>\n",
       "      <td>-0.526514</td>\n",
       "      <td>-2.240913</td>\n",
       "      <td>5.057677</td>\n",
       "    </tr>\n",
       "    <tr>\n",
       "      <th>4</th>\n",
       "      <td>-0.790432</td>\n",
       "      <td>0.678414</td>\n",
       "      <td>-0.847132</td>\n",
       "      <td>0.488805</td>\n",
       "      <td>-1.038944</td>\n",
       "      <td>0.070531</td>\n",
       "      <td>0.647908</td>\n",
       "      <td>4.978487</td>\n",
       "    </tr>\n",
       "    <tr>\n",
       "      <th>...</th>\n",
       "      <td>...</td>\n",
       "      <td>...</td>\n",
       "      <td>...</td>\n",
       "      <td>...</td>\n",
       "      <td>...</td>\n",
       "      <td>...</td>\n",
       "      <td>...</td>\n",
       "      <td>...</td>\n",
       "    </tr>\n",
       "    <tr>\n",
       "      <th>1025</th>\n",
       "      <td>-0.045623</td>\n",
       "      <td>0.488241</td>\n",
       "      <td>0.564569</td>\n",
       "      <td>-0.092122</td>\n",
       "      <td>0.451695</td>\n",
       "      <td>-1.323003</td>\n",
       "      <td>-0.065874</td>\n",
       "      <td>-0.279733</td>\n",
       "    </tr>\n",
       "    <tr>\n",
       "      <th>1026</th>\n",
       "      <td>0.392837</td>\n",
       "      <td>-0.856886</td>\n",
       "      <td>0.960095</td>\n",
       "      <td>0.676201</td>\n",
       "      <td>0.702927</td>\n",
       "      <td>-1.994679</td>\n",
       "      <td>0.496916</td>\n",
       "      <td>-0.279733</td>\n",
       "    </tr>\n",
       "    <tr>\n",
       "      <th>1027</th>\n",
       "      <td>-1.270057</td>\n",
       "      <td>0.759585</td>\n",
       "      <td>0.850661</td>\n",
       "      <td>0.521599</td>\n",
       "      <td>-0.017270</td>\n",
       "      <td>-1.036061</td>\n",
       "      <td>0.080127</td>\n",
       "      <td>-0.279733</td>\n",
       "    </tr>\n",
       "    <tr>\n",
       "      <th>1028</th>\n",
       "      <td>-1.168580</td>\n",
       "      <td>1.308072</td>\n",
       "      <td>-0.847132</td>\n",
       "      <td>-0.279518</td>\n",
       "      <td>0.853666</td>\n",
       "      <td>0.214646</td>\n",
       "      <td>0.191188</td>\n",
       "      <td>-0.279733</td>\n",
       "    </tr>\n",
       "    <tr>\n",
       "      <th>1029</th>\n",
       "      <td>-0.194010</td>\n",
       "      <td>0.308504</td>\n",
       "      <td>0.376967</td>\n",
       "      <td>0.891706</td>\n",
       "      <td>0.401449</td>\n",
       "      <td>-1.395060</td>\n",
       "      <td>-0.150729</td>\n",
       "      <td>-0.279733</td>\n",
       "    </tr>\n",
       "  </tbody>\n",
       "</table>\n",
       "<p>1030 rows × 8 columns</p>\n",
       "</div>"
      ],
      "text/plain": [
       "      Comp1_cem  Comp2_Blast  Comp3_Ash  Comp4_water  Comp5_plasticizer  \\\n",
       "0      2.477918    -0.856886  -0.847132    -0.916663          -0.620225   \n",
       "1      2.477918    -0.856886  -0.847132    -0.916663          -0.620225   \n",
       "2      0.491443     0.795533  -0.847132     2.175367          -1.038944   \n",
       "3      0.491443     0.795533  -0.847132     2.175367          -1.038944   \n",
       "4     -0.790432     0.678414  -0.847132     0.488805          -1.038944   \n",
       "...         ...          ...        ...          ...                ...   \n",
       "1025  -0.045623     0.488241   0.564569    -0.092122           0.451695   \n",
       "1026   0.392837    -0.856886   0.960095     0.676201           0.702927   \n",
       "1027  -1.270057     0.759585   0.850661     0.521599          -0.017270   \n",
       "1028  -1.168580     1.308072  -0.847132    -0.279518           0.853666   \n",
       "1029  -0.194010     0.308504   0.376967     0.891706           0.401449   \n",
       "\n",
       "      Comp6_Coarse  Comp7_Agg       Age  \n",
       "0         0.863160  -1.217658 -0.279733  \n",
       "1         1.056170  -1.217658 -0.279733  \n",
       "2        -0.526514  -2.240913  3.553066  \n",
       "3        -0.526514  -2.240913  5.057677  \n",
       "4         0.070531   0.647908  4.978487  \n",
       "...            ...        ...       ...  \n",
       "1025     -1.323003  -0.065874 -0.279733  \n",
       "1026     -1.994679   0.496916 -0.279733  \n",
       "1027     -1.036061   0.080127 -0.279733  \n",
       "1028      0.214646   0.191188 -0.279733  \n",
       "1029     -1.395060  -0.150729 -0.279733  \n",
       "\n",
       "[1030 rows x 8 columns]"
      ]
     },
     "execution_count": 73,
     "metadata": {},
     "output_type": "execute_result"
    }
   ],
   "source": [
    "df_cem1"
   ]
  },
  {
   "cell_type": "code",
   "execution_count": 74,
   "metadata": {},
   "outputs": [],
   "source": [
    "df_cem2=pd.concat([df_cem1,df_cem.iloc[:,-1]],axis=1)"
   ]
  },
  {
   "cell_type": "code",
   "execution_count": 75,
   "metadata": {},
   "outputs": [
    {
     "data": {
      "text/html": [
       "<div>\n",
       "<style scoped>\n",
       "    .dataframe tbody tr th:only-of-type {\n",
       "        vertical-align: middle;\n",
       "    }\n",
       "\n",
       "    .dataframe tbody tr th {\n",
       "        vertical-align: top;\n",
       "    }\n",
       "\n",
       "    .dataframe thead th {\n",
       "        text-align: right;\n",
       "    }\n",
       "</style>\n",
       "<table border=\"1\" class=\"dataframe\">\n",
       "  <thead>\n",
       "    <tr style=\"text-align: right;\">\n",
       "      <th></th>\n",
       "      <th>Comp1_cem</th>\n",
       "      <th>Comp2_Blast</th>\n",
       "      <th>Comp3_Ash</th>\n",
       "      <th>Comp4_water</th>\n",
       "      <th>Comp5_plasticizer</th>\n",
       "      <th>Comp6_Coarse</th>\n",
       "      <th>Comp7_Agg</th>\n",
       "      <th>Age</th>\n",
       "      <th>CCS</th>\n",
       "    </tr>\n",
       "  </thead>\n",
       "  <tbody>\n",
       "    <tr>\n",
       "      <th>0</th>\n",
       "      <td>2.477918</td>\n",
       "      <td>-0.856886</td>\n",
       "      <td>-0.847132</td>\n",
       "      <td>-0.916663</td>\n",
       "      <td>-0.620225</td>\n",
       "      <td>0.863160</td>\n",
       "      <td>-1.217658</td>\n",
       "      <td>-0.279733</td>\n",
       "      <td>79.986111</td>\n",
       "    </tr>\n",
       "    <tr>\n",
       "      <th>1</th>\n",
       "      <td>2.477918</td>\n",
       "      <td>-0.856886</td>\n",
       "      <td>-0.847132</td>\n",
       "      <td>-0.916663</td>\n",
       "      <td>-0.620225</td>\n",
       "      <td>1.056170</td>\n",
       "      <td>-1.217658</td>\n",
       "      <td>-0.279733</td>\n",
       "      <td>61.887366</td>\n",
       "    </tr>\n",
       "    <tr>\n",
       "      <th>2</th>\n",
       "      <td>0.491443</td>\n",
       "      <td>0.795533</td>\n",
       "      <td>-0.847132</td>\n",
       "      <td>2.175367</td>\n",
       "      <td>-1.038944</td>\n",
       "      <td>-0.526514</td>\n",
       "      <td>-2.240913</td>\n",
       "      <td>3.553066</td>\n",
       "      <td>40.269535</td>\n",
       "    </tr>\n",
       "    <tr>\n",
       "      <th>3</th>\n",
       "      <td>0.491443</td>\n",
       "      <td>0.795533</td>\n",
       "      <td>-0.847132</td>\n",
       "      <td>2.175367</td>\n",
       "      <td>-1.038944</td>\n",
       "      <td>-0.526514</td>\n",
       "      <td>-2.240913</td>\n",
       "      <td>5.057677</td>\n",
       "      <td>41.052780</td>\n",
       "    </tr>\n",
       "    <tr>\n",
       "      <th>4</th>\n",
       "      <td>-0.790432</td>\n",
       "      <td>0.678414</td>\n",
       "      <td>-0.847132</td>\n",
       "      <td>0.488805</td>\n",
       "      <td>-1.038944</td>\n",
       "      <td>0.070531</td>\n",
       "      <td>0.647908</td>\n",
       "      <td>4.978487</td>\n",
       "      <td>44.296075</td>\n",
       "    </tr>\n",
       "    <tr>\n",
       "      <th>...</th>\n",
       "      <td>...</td>\n",
       "      <td>...</td>\n",
       "      <td>...</td>\n",
       "      <td>...</td>\n",
       "      <td>...</td>\n",
       "      <td>...</td>\n",
       "      <td>...</td>\n",
       "      <td>...</td>\n",
       "      <td>...</td>\n",
       "    </tr>\n",
       "    <tr>\n",
       "      <th>1025</th>\n",
       "      <td>-0.045623</td>\n",
       "      <td>0.488241</td>\n",
       "      <td>0.564569</td>\n",
       "      <td>-0.092122</td>\n",
       "      <td>0.451695</td>\n",
       "      <td>-1.323003</td>\n",
       "      <td>-0.065874</td>\n",
       "      <td>-0.279733</td>\n",
       "      <td>44.284354</td>\n",
       "    </tr>\n",
       "    <tr>\n",
       "      <th>1026</th>\n",
       "      <td>0.392837</td>\n",
       "      <td>-0.856886</td>\n",
       "      <td>0.960095</td>\n",
       "      <td>0.676201</td>\n",
       "      <td>0.702927</td>\n",
       "      <td>-1.994679</td>\n",
       "      <td>0.496916</td>\n",
       "      <td>-0.279733</td>\n",
       "      <td>31.178794</td>\n",
       "    </tr>\n",
       "    <tr>\n",
       "      <th>1027</th>\n",
       "      <td>-1.270057</td>\n",
       "      <td>0.759585</td>\n",
       "      <td>0.850661</td>\n",
       "      <td>0.521599</td>\n",
       "      <td>-0.017270</td>\n",
       "      <td>-1.036061</td>\n",
       "      <td>0.080127</td>\n",
       "      <td>-0.279733</td>\n",
       "      <td>23.696601</td>\n",
       "    </tr>\n",
       "    <tr>\n",
       "      <th>1028</th>\n",
       "      <td>-1.168580</td>\n",
       "      <td>1.308072</td>\n",
       "      <td>-0.847132</td>\n",
       "      <td>-0.279518</td>\n",
       "      <td>0.853666</td>\n",
       "      <td>0.214646</td>\n",
       "      <td>0.191188</td>\n",
       "      <td>-0.279733</td>\n",
       "      <td>32.768036</td>\n",
       "    </tr>\n",
       "    <tr>\n",
       "      <th>1029</th>\n",
       "      <td>-0.194010</td>\n",
       "      <td>0.308504</td>\n",
       "      <td>0.376967</td>\n",
       "      <td>0.891706</td>\n",
       "      <td>0.401449</td>\n",
       "      <td>-1.395060</td>\n",
       "      <td>-0.150729</td>\n",
       "      <td>-0.279733</td>\n",
       "      <td>32.401235</td>\n",
       "    </tr>\n",
       "  </tbody>\n",
       "</table>\n",
       "<p>1030 rows × 9 columns</p>\n",
       "</div>"
      ],
      "text/plain": [
       "      Comp1_cem  Comp2_Blast  Comp3_Ash  Comp4_water  Comp5_plasticizer  \\\n",
       "0      2.477918    -0.856886  -0.847132    -0.916663          -0.620225   \n",
       "1      2.477918    -0.856886  -0.847132    -0.916663          -0.620225   \n",
       "2      0.491443     0.795533  -0.847132     2.175367          -1.038944   \n",
       "3      0.491443     0.795533  -0.847132     2.175367          -1.038944   \n",
       "4     -0.790432     0.678414  -0.847132     0.488805          -1.038944   \n",
       "...         ...          ...        ...          ...                ...   \n",
       "1025  -0.045623     0.488241   0.564569    -0.092122           0.451695   \n",
       "1026   0.392837    -0.856886   0.960095     0.676201           0.702927   \n",
       "1027  -1.270057     0.759585   0.850661     0.521599          -0.017270   \n",
       "1028  -1.168580     1.308072  -0.847132    -0.279518           0.853666   \n",
       "1029  -0.194010     0.308504   0.376967     0.891706           0.401449   \n",
       "\n",
       "      Comp6_Coarse  Comp7_Agg       Age        CCS  \n",
       "0         0.863160  -1.217658 -0.279733  79.986111  \n",
       "1         1.056170  -1.217658 -0.279733  61.887366  \n",
       "2        -0.526514  -2.240913  3.553066  40.269535  \n",
       "3        -0.526514  -2.240913  5.057677  41.052780  \n",
       "4         0.070531   0.647908  4.978487  44.296075  \n",
       "...            ...        ...       ...        ...  \n",
       "1025     -1.323003  -0.065874 -0.279733  44.284354  \n",
       "1026     -1.994679   0.496916 -0.279733  31.178794  \n",
       "1027     -1.036061   0.080127 -0.279733  23.696601  \n",
       "1028      0.214646   0.191188 -0.279733  32.768036  \n",
       "1029     -1.395060  -0.150729 -0.279733  32.401235  \n",
       "\n",
       "[1030 rows x 9 columns]"
      ]
     },
     "execution_count": 75,
     "metadata": {},
     "output_type": "execute_result"
    }
   ],
   "source": [
    "df_cem2"
   ]
  },
  {
   "cell_type": "code",
   "execution_count": 76,
   "metadata": {},
   "outputs": [],
   "source": [
    "from sklearn.model_selection import train_test_split\n",
    "\n",
    "x=df_cem2.iloc[:,:-1]\n",
    "y=df_cem2.iloc[:,-1]\n",
    "x_train,x_test,y_train,y_test=train_test_split(x,y,random_state=1,test_size=0.3)"
   ]
  },
  {
   "cell_type": "code",
   "execution_count": 77,
   "metadata": {},
   "outputs": [
    {
     "data": {
      "text/plain": [
       "339     21.911547\n",
       "244     19.932751\n",
       "882     36.438807\n",
       "567     11.957582\n",
       "923     39.844818\n",
       "          ...    \n",
       "1018    37.265488\n",
       "1015    52.426376\n",
       "341     47.401475\n",
       "750     44.091990\n",
       "937     36.804918\n",
       "Name: CCS, Length: 309, dtype: float64"
      ]
     },
     "execution_count": 77,
     "metadata": {},
     "output_type": "execute_result"
    }
   ],
   "source": [
    "y_test"
   ]
  },
  {
   "cell_type": "code",
   "execution_count": 78,
   "metadata": {},
   "outputs": [],
   "source": [
    "from sklearn.linear_model import LinearRegression\n",
    "import sklearn.metrics\n"
   ]
  },
  {
   "cell_type": "code",
   "execution_count": 79,
   "metadata": {},
   "outputs": [],
   "source": [
    "LR=LinearRegression()\n",
    "LR.fit(x_train,y_train)\n",
    "ypred=LR.predict(x_test)\n"
   ]
  },
  {
   "cell_type": "code",
   "execution_count": 80,
   "metadata": {},
   "outputs": [
    {
     "name": "stdout",
     "output_type": "stream",
     "text": [
      "MSE 120.19296189135137\n",
      "Mean Absolute Error 8.712005247442644\n",
      "Root mean squared error 10.963255077364176\n",
      "Rsquared 0.5414363184391058\n"
     ]
    }
   ],
   "source": [
    "\n",
    "print(\"MSE\",sklearn.metrics.mean_squared_error(ypred,y_test))\n",
    "print(\"Mean Absolute Error\",sklearn.metrics.mean_absolute_error(y_test,ypred))\n",
    "print(\"Root mean squared error\",math.sqrt(sklearn.metrics.mean_squared_error(y_test,ypred)))\n",
    "print(\"Rsquared\",sklearn.metrics.r2_score(y_test,ypred))"
   ]
  },
  {
   "cell_type": "code",
   "execution_count": 82,
   "metadata": {},
   "outputs": [
    {
     "name": "stdout",
     "output_type": "stream",
     "text": [
      "                            OLS Regression Results                            \n",
      "==============================================================================\n",
      "Dep. Variable:                    CCS   R-squared:                       0.641\n",
      "Model:                            OLS   Adj. R-squared:                  0.637\n",
      "Method:                 Least Squares   F-statistic:                     159.0\n",
      "Date:                Tue, 25 Jan 2022   Prob (F-statistic):          7.31e-153\n",
      "Time:                        00:23:40   Log-Likelihood:                -2692.3\n",
      "No. Observations:                 721   AIC:                             5403.\n",
      "Df Residuals:                     712   BIC:                             5444.\n",
      "Df Model:                           8                                         \n",
      "Covariance Type:            nonrobust                                         \n",
      "=====================================================================================\n",
      "                        coef    std err          t      P>|t|      [0.025      0.975]\n",
      "-------------------------------------------------------------------------------------\n",
      "const                36.0342      0.381     94.605      0.000      35.286      36.782\n",
      "Comp1_cem            12.7406      1.011     12.606      0.000      10.756      14.725\n",
      "Comp2_Blast           9.0744      1.007      9.013      0.000       7.098      11.051\n",
      "Comp3_Ash             5.5848      0.919      6.078      0.000       3.781       7.389\n",
      "Comp4_water          -3.3117      0.947     -3.495      0.001      -5.172      -1.452\n",
      "Comp5_plasticizer     1.9715      0.649      3.037      0.002       0.697       3.246\n",
      "Comp6_Coarse          0.9735      0.829      1.175      0.240      -0.653       2.600\n",
      "Comp7_Agg             1.1482      0.981      1.170      0.242      -0.778       3.074\n",
      "Age                   7.2960      0.401     18.195      0.000       6.509       8.083\n",
      "==============================================================================\n",
      "Omnibus:                        7.308   Durbin-Watson:                   1.890\n",
      "Prob(Omnibus):                  0.026   Jarque-Bera (JB):                7.188\n",
      "Skew:                          -0.231   Prob(JB):                       0.0275\n",
      "Kurtosis:                       3.159   Cond. No.                         8.15\n",
      "==============================================================================\n",
      "\n",
      "Notes:\n",
      "[1] Standard Errors assume that the covariance matrix of the errors is correctly specified.\n"
     ]
    }
   ],
   "source": [
    "import statsmodels.api as sm\n",
    "x_train=sm.add_constant(x_train)\n",
    "lm_l=sm.OLS(y_train,x_train).fit()\n",
    "print(lm_l.summary())\n"
   ]
  },
  {
   "cell_type": "code",
   "execution_count": null,
   "metadata": {},
   "outputs": [],
   "source": []
  }
 ],
 "metadata": {
  "kernelspec": {
   "display_name": "Python 3",
   "language": "python",
   "name": "python3"
  },
  "language_info": {
   "codemirror_mode": {
    "name": "ipython",
    "version": 3
   },
   "file_extension": ".py",
   "mimetype": "text/x-python",
   "name": "python",
   "nbconvert_exporter": "python",
   "pygments_lexer": "ipython3",
   "version": "3.8.5"
  }
 },
 "nbformat": 4,
 "nbformat_minor": 4
}
